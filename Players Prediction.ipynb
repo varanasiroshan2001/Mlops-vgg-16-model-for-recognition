{
 "cells": [
  {
   "cell_type": "markdown",
   "metadata": {},
   "source": [
    "### Loading our classifer"
   ]
  },
  {
   "cell_type": "code",
   "execution_count": 5,
   "metadata": {},
   "outputs": [],
   "source": [
    "from keras.models import load_model\n",
    "\n",
    "classifier = load_model('players.h5')"
   ]
  },
  {
   "cell_type": "markdown",
   "metadata": {},
   "source": [
    "### Testing our classifer on some test images"
   ]
  },
  {
   "cell_type": "code",
   "execution_count": 6,
   "metadata": {},
   "outputs": [
    {
     "name": "stdout",
     "output_type": "stream",
     "text": [
      "Class - Virat Kohli\n",
      "Class - Ms. Dhoni\n",
      "Class - Virat Kohli\n",
      "Class - Sourav Ganguly\n",
      "Class - Virat Kohli\n",
      "Class - Sachin Tendulkar\n",
      "Class - Sourav Ganguly\n",
      "Class - Virat Kohli\n",
      "Class - Virat Kohli\n",
      "Class - Sachin Tendulkar\n",
      "Class - Ms. Dhoni\n",
      "Class - Sourav Ganguly\n",
      "Class - Sachin Tendulkar\n",
      "Class - Ms. Dhoni\n",
      "Class - Sachin Tendulkar\n",
      "Class - Ms. Dhoni\n",
      "Class - Virat Kohli\n",
      "Class - Virat Kohli\n",
      "Class - Sourav Ganguly\n",
      "Class - Sachin Tendulkar\n"
     ]
    }
   ],
   "source": [
    "import os\n",
    "import cv2\n",
    "import numpy as np\n",
    "from os import listdir\n",
    "from os.path import isfile, join\n",
    "\n",
    "players_dict = {\"[0]\": \"Ms. Dhoni\", \n",
    "                      \"[1]\": \"Sachin Tendulkar\",\n",
    "                      \"[2]\": \"Sourav Ganguly\",\n",
    "                      \"[3]\": \"Virat Kohli\",}\n",
    "\n",
    "players_dict_n = {\"Ms. Dhoni\": \"Ms. Dhoni\", \n",
    "                      \"Sachin Tendulkar\": \"Sachin Tendulkar\",\n",
    "                      \"Sourav Ganguly\": \"Sourav Ganguly\",\n",
    "                      \"Virat Kohli\": \"Virat Kohli\",}\n",
    "\n",
    "def draw_test(name, pred, im):\n",
    "    player = players_dict[str(pred)]\n",
    "    BLACK = [0,0,0]\n",
    "    expanded_image = cv2.copyMakeBorder(im, 80, 0, 0, 100 ,cv2.BORDER_CONSTANT,value=BLACK)\n",
    "    cv2.putText(expanded_image, player, (20, 60) , cv2.FONT_HERSHEY_SIMPLEX,1, (0,0,255), 2)\n",
    "    cv2.imshow(name, expanded_image)\n",
    "\n",
    "def getRandomImage(path):\n",
    "    \"\"\"function loads a random images from a random folder in our test path \"\"\"\n",
    "    folders = list(filter(lambda x: os.path.isdir(os.path.join(path, x)), os.listdir(path)))\n",
    "    random_directory = np.random.randint(0,len(folders))\n",
    "    path_class = folders[random_directory]\n",
    "    print(\"Class - \" + players_dict_n[str(path_class)])\n",
    "    file_path = path + path_class\n",
    "    file_names = [f for f in listdir(file_path) if isfile(join(file_path, f))]\n",
    "    random_file_index = np.random.randint(0,len(file_names))\n",
    "    image_name = file_names[random_file_index]\n",
    "    return cv2.imread(file_path+\"/\"+image_name)    \n",
    "\n",
    "for i in range(0,20):\n",
    "    input_im = getRandomImage(\"players/validation/\")\n",
    "    input_original = input_im.copy()\n",
    "    input_original = cv2.resize(input_original, None, fx=0.5, fy=0.5, interpolation = cv2.INTER_LINEAR)\n",
    "    \n",
    "    input_im = cv2.resize(input_im, (224, 224), interpolation = cv2.INTER_LINEAR)\n",
    "    input_im = input_im / 255.\n",
    "    input_im = input_im.reshape(1,224,224,3) \n",
    "    \n",
    "    # Get Prediction\n",
    "    res = np.argmax(classifier.predict(input_im, 1, verbose = 0), axis=1)\n",
    "    \n",
    "    # Show image with predicted class\n",
    "    draw_test(\"Prediction\", res, input_original) \n",
    "    cv2.waitKey(0)\n",
    "\n",
    "cv2.destroyAllWindows()"
   ]
  },
  {
   "cell_type": "code",
   "execution_count": null,
   "metadata": {},
   "outputs": [],
   "source": []
  }
 ],
 "metadata": {
  "kernelspec": {
   "display_name": "Python 3",
   "language": "python",
   "name": "python3"
  },
  "language_info": {
   "codemirror_mode": {
    "name": "ipython",
    "version": 3
   },
   "file_extension": ".py",
   "mimetype": "text/x-python",
   "name": "python",
   "nbconvert_exporter": "python",
   "pygments_lexer": "ipython3",
   "version": "3.7.7"
  }
 },
 "nbformat": 4,
 "nbformat_minor": 4
}
